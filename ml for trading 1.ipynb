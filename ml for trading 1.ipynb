{
 "cells": [
  {
   "cell_type": "markdown",
   "metadata": {},
   "source": [
    "## introduction to machine learning"
   ]
  },
  {
   "cell_type": "code",
   "execution_count": 95,
   "metadata": {},
   "outputs": [],
   "source": [
    "import pandas as pd\n",
    "import matplotlib.pyplot as plt\n",
    "import numpy as np\n"
   ]
  },
  {
   "cell_type": "code",
   "execution_count": null,
   "metadata": {},
   "outputs": [],
   "source": []
  },
  {
   "cell_type": "code",
   "execution_count": null,
   "metadata": {},
   "outputs": [],
   "source": []
  },
  {
   "cell_type": "code",
   "execution_count": 96,
   "metadata": {},
   "outputs": [
    {
     "data": {
      "text/html": [
       "<div>\n",
       "<style scoped>\n",
       "    .dataframe tbody tr th:only-of-type {\n",
       "        vertical-align: middle;\n",
       "    }\n",
       "\n",
       "    .dataframe tbody tr th {\n",
       "        vertical-align: top;\n",
       "    }\n",
       "\n",
       "    .dataframe thead th {\n",
       "        text-align: right;\n",
       "    }\n",
       "</style>\n",
       "<table border=\"1\" class=\"dataframe\">\n",
       "  <thead>\n",
       "    <tr style=\"text-align: right;\">\n",
       "      <th></th>\n",
       "      <th>close</th>\n",
       "      <th>volume</th>\n",
       "      <th>open</th>\n",
       "      <th>high</th>\n",
       "      <th>low</th>\n",
       "    </tr>\n",
       "    <tr>\n",
       "      <th>date</th>\n",
       "      <th></th>\n",
       "      <th></th>\n",
       "      <th></th>\n",
       "      <th></th>\n",
       "      <th></th>\n",
       "    </tr>\n",
       "  </thead>\n",
       "  <tbody>\n",
       "    <tr>\n",
       "      <th>2019-06-06 16:00:00</th>\n",
       "      <td>280.53</td>\n",
       "      <td>76,053,037</td>\n",
       "      <td>277.12</td>\n",
       "      <td>280.680</td>\n",
       "      <td>276.620</td>\n",
       "    </tr>\n",
       "    <tr>\n",
       "      <th>2019-06-04 00:00:00</th>\n",
       "      <td>280.53</td>\n",
       "      <td>77231890.0000</td>\n",
       "      <td>277.12</td>\n",
       "      <td>280.680</td>\n",
       "      <td>276.620</td>\n",
       "    </tr>\n",
       "    <tr>\n",
       "      <th>2019-06-03 00:00:00</th>\n",
       "      <td>274.57</td>\n",
       "      <td>96427950.0000</td>\n",
       "      <td>275.31</td>\n",
       "      <td>276.552</td>\n",
       "      <td>273.090</td>\n",
       "    </tr>\n",
       "    <tr>\n",
       "      <th>2019-05-31 00:00:00</th>\n",
       "      <td>275.27</td>\n",
       "      <td>86862780.0000</td>\n",
       "      <td>276.20</td>\n",
       "      <td>277.120</td>\n",
       "      <td>275.240</td>\n",
       "    </tr>\n",
       "    <tr>\n",
       "      <th>2019-05-30 00:00:00</th>\n",
       "      <td>279.03</td>\n",
       "      <td>62523780.0000</td>\n",
       "      <td>279.11</td>\n",
       "      <td>280.040</td>\n",
       "      <td>277.805</td>\n",
       "    </tr>\n",
       "  </tbody>\n",
       "</table>\n",
       "</div>"
      ],
      "text/plain": [
       "                      close         volume    open     high      low\n",
       "date                                                                \n",
       "2019-06-06 16:00:00  280.53     76,053,037  277.12  280.680  276.620\n",
       "2019-06-04 00:00:00  280.53  77231890.0000  277.12  280.680  276.620\n",
       "2019-06-03 00:00:00  274.57  96427950.0000  275.31  276.552  273.090\n",
       "2019-05-31 00:00:00  275.27  86862780.0000  276.20  277.120  275.240\n",
       "2019-05-30 00:00:00  279.03  62523780.0000  279.11  280.040  277.805"
      ]
     },
     "execution_count": 96,
     "metadata": {},
     "output_type": "execute_result"
    }
   ],
   "source": [
    "df=pd.read_csv(\"s and p.csv\",index_col = 'date',parse_dates=True)\n",
    "df.head()"
   ]
  },
  {
   "cell_type": "code",
   "execution_count": null,
   "metadata": {},
   "outputs": [],
   "source": []
  },
  {
   "cell_type": "code",
   "execution_count": 97,
   "metadata": {},
   "outputs": [
    {
     "data": {
      "text/html": [
       "<div>\n",
       "<style scoped>\n",
       "    .dataframe tbody tr th:only-of-type {\n",
       "        vertical-align: middle;\n",
       "    }\n",
       "\n",
       "    .dataframe tbody tr th {\n",
       "        vertical-align: top;\n",
       "    }\n",
       "\n",
       "    .dataframe thead th {\n",
       "        text-align: right;\n",
       "    }\n",
       "</style>\n",
       "<table border=\"1\" class=\"dataframe\">\n",
       "  <thead>\n",
       "    <tr style=\"text-align: right;\">\n",
       "      <th></th>\n",
       "      <th>date</th>\n",
       "      <th>close</th>\n",
       "      <th>high</th>\n",
       "    </tr>\n",
       "  </thead>\n",
       "  <tbody>\n",
       "    <tr>\n",
       "      <th>0</th>\n",
       "      <td>16:00</td>\n",
       "      <td>1,054.49</td>\n",
       "      <td>1,058.437</td>\n",
       "    </tr>\n",
       "    <tr>\n",
       "      <th>1</th>\n",
       "      <td>2019/06/04</td>\n",
       "      <td>1054.4900</td>\n",
       "      <td>1058.4370</td>\n",
       "    </tr>\n",
       "    <tr>\n",
       "      <th>2</th>\n",
       "      <td>2019/06/03</td>\n",
       "      <td>1038.7400</td>\n",
       "      <td>1067.0000</td>\n",
       "    </tr>\n",
       "    <tr>\n",
       "      <th>3</th>\n",
       "      <td>2019/05/31</td>\n",
       "      <td>1106.5000</td>\n",
       "      <td>1113.4030</td>\n",
       "    </tr>\n",
       "    <tr>\n",
       "      <th>4</th>\n",
       "      <td>2019/05/30</td>\n",
       "      <td>1121.4100</td>\n",
       "      <td>1126.7950</td>\n",
       "    </tr>\n",
       "  </tbody>\n",
       "</table>\n",
       "</div>"
      ],
      "text/plain": [
       "         date      close       high\n",
       "0       16:00   1,054.49  1,058.437\n",
       "1  2019/06/04  1054.4900  1058.4370\n",
       "2  2019/06/03  1038.7400  1067.0000\n",
       "3  2019/05/31  1106.5000  1113.4030\n",
       "4  2019/05/30  1121.4100  1126.7950"
      ]
     },
     "execution_count": 97,
     "metadata": {},
     "output_type": "execute_result"
    }
   ],
   "source": [
    "dfg=pd.read_csv(\"Google3.csv\",usecols=['date','high','close'])\n",
    "dfg.head()"
   ]
  },
  {
   "cell_type": "code",
   "execution_count": 98,
   "metadata": {},
   "outputs": [],
   "source": [
    "dfa = pd.read_csv(\"apple2.csv\")"
   ]
  },
  {
   "cell_type": "code",
   "execution_count": 99,
   "metadata": {},
   "outputs": [
    {
     "data": {
      "text/html": [
       "<div>\n",
       "<style scoped>\n",
       "    .dataframe tbody tr th:only-of-type {\n",
       "        vertical-align: middle;\n",
       "    }\n",
       "\n",
       "    .dataframe tbody tr th {\n",
       "        vertical-align: top;\n",
       "    }\n",
       "\n",
       "    .dataframe thead th {\n",
       "        text-align: right;\n",
       "    }\n",
       "</style>\n",
       "<table border=\"1\" class=\"dataframe\">\n",
       "  <thead>\n",
       "    <tr style=\"text-align: right;\">\n",
       "      <th></th>\n",
       "      <th>date</th>\n",
       "      <th>close</th>\n",
       "      <th>volume</th>\n",
       "      <th>open</th>\n",
       "      <th>high</th>\n",
       "      <th>low</th>\n",
       "    </tr>\n",
       "  </thead>\n",
       "  <tbody>\n",
       "    <tr>\n",
       "      <th>0</th>\n",
       "      <td>16:00</td>\n",
       "      <td>179.64</td>\n",
       "      <td>30,967,861</td>\n",
       "      <td>175.43</td>\n",
       "      <td>179.83</td>\n",
       "      <td>174.52</td>\n",
       "    </tr>\n",
       "    <tr>\n",
       "      <th>1</th>\n",
       "      <td>2019/06/04</td>\n",
       "      <td>179.64</td>\n",
       "      <td>30967960.0000</td>\n",
       "      <td>175.44</td>\n",
       "      <td>179.83</td>\n",
       "      <td>174.52</td>\n",
       "    </tr>\n",
       "  </tbody>\n",
       "</table>\n",
       "</div>"
      ],
      "text/plain": [
       "         date   close         volume    open    high     low\n",
       "0       16:00  179.64     30,967,861  175.43  179.83  174.52\n",
       "1  2019/06/04  179.64  30967960.0000  175.44  179.83  174.52"
      ]
     },
     "execution_count": 99,
     "metadata": {},
     "output_type": "execute_result"
    }
   ],
   "source": [
    "dfa.head(2)"
   ]
  },
  {
   "cell_type": "code",
   "execution_count": 100,
   "metadata": {},
   "outputs": [
    {
     "data": {
      "text/plain": [
       "(66, 3)"
      ]
     },
     "execution_count": 100,
     "metadata": {},
     "output_type": "execute_result"
    }
   ],
   "source": [
    "dfg.shape"
   ]
  },
  {
   "cell_type": "code",
   "execution_count": null,
   "metadata": {},
   "outputs": [],
   "source": []
  },
  {
   "cell_type": "code",
   "execution_count": 101,
   "metadata": {},
   "outputs": [
    {
     "data": {
      "text/html": [
       "<div>\n",
       "<style scoped>\n",
       "    .dataframe tbody tr th:only-of-type {\n",
       "        vertical-align: middle;\n",
       "    }\n",
       "\n",
       "    .dataframe tbody tr th {\n",
       "        vertical-align: top;\n",
       "    }\n",
       "\n",
       "    .dataframe thead th {\n",
       "        text-align: right;\n",
       "    }\n",
       "</style>\n",
       "<table border=\"1\" class=\"dataframe\">\n",
       "  <thead>\n",
       "    <tr style=\"text-align: right;\">\n",
       "      <th></th>\n",
       "      <th>close</th>\n",
       "      <th>volume</th>\n",
       "      <th>open</th>\n",
       "      <th>high</th>\n",
       "      <th>low</th>\n",
       "    </tr>\n",
       "    <tr>\n",
       "      <th>date</th>\n",
       "      <th></th>\n",
       "      <th></th>\n",
       "      <th></th>\n",
       "      <th></th>\n",
       "      <th></th>\n",
       "    </tr>\n",
       "  </thead>\n",
       "  <tbody>\n",
       "    <tr>\n",
       "      <th>2019-05-21</th>\n",
       "      <td>286.51</td>\n",
       "      <td>46847090.0000</td>\n",
       "      <td>285.83</td>\n",
       "      <td>286.93</td>\n",
       "      <td>285.550</td>\n",
       "    </tr>\n",
       "    <tr>\n",
       "      <th>2019-05-20</th>\n",
       "      <td>283.95</td>\n",
       "      <td>62877610.0000</td>\n",
       "      <td>284.06</td>\n",
       "      <td>285.43</td>\n",
       "      <td>283.120</td>\n",
       "    </tr>\n",
       "    <tr>\n",
       "      <th>2019-05-17</th>\n",
       "      <td>285.84</td>\n",
       "      <td>100353000.0000</td>\n",
       "      <td>285.14</td>\n",
       "      <td>288.60</td>\n",
       "      <td>285.121</td>\n",
       "    </tr>\n",
       "    <tr>\n",
       "      <th>2019-05-16</th>\n",
       "      <td>287.70</td>\n",
       "      <td>76749640.0000</td>\n",
       "      <td>285.84</td>\n",
       "      <td>289.21</td>\n",
       "      <td>285.760</td>\n",
       "    </tr>\n",
       "    <tr>\n",
       "      <th>2019-05-15</th>\n",
       "      <td>285.06</td>\n",
       "      <td>73956410.0000</td>\n",
       "      <td>281.59</td>\n",
       "      <td>285.77</td>\n",
       "      <td>281.360</td>\n",
       "    </tr>\n",
       "  </tbody>\n",
       "</table>\n",
       "</div>"
      ],
      "text/plain": [
       "             close          volume    open    high      low\n",
       "date                                                       \n",
       "2019-05-21  286.51   46847090.0000  285.83  286.93  285.550\n",
       "2019-05-20  283.95   62877610.0000  284.06  285.43  283.120\n",
       "2019-05-17  285.84  100353000.0000  285.14  288.60  285.121\n",
       "2019-05-16  287.70   76749640.0000  285.84  289.21  285.760\n",
       "2019-05-15  285.06   73956410.0000  281.59  285.77  281.360"
      ]
     },
     "execution_count": 101,
     "metadata": {},
     "output_type": "execute_result"
    }
   ],
   "source": [
    "df[10:15]  ## we need index for slicing "
   ]
  },
  {
   "cell_type": "code",
   "execution_count": null,
   "metadata": {},
   "outputs": [],
   "source": []
  },
  {
   "cell_type": "code",
   "execution_count": 102,
   "metadata": {},
   "outputs": [],
   "source": [
    "## maximum value of dataframe"
   ]
  },
  {
   "cell_type": "code",
   "execution_count": 103,
   "metadata": {},
   "outputs": [
    {
     "data": {
      "text/plain": [
       "'1296.2000'"
      ]
     },
     "execution_count": 103,
     "metadata": {},
     "output_type": "execute_result"
    }
   ],
   "source": [
    "dfg['close'].max()"
   ]
  },
  {
   "cell_type": "code",
   "execution_count": 104,
   "metadata": {},
   "outputs": [],
   "source": [
    "## plot graphs "
   ]
  },
  {
   "cell_type": "code",
   "execution_count": 105,
   "metadata": {},
   "outputs": [
    {
     "data": {
      "text/plain": [
       "<matplotlib.axes._subplots.AxesSubplot at 0x277c664dc18>"
      ]
     },
     "execution_count": 105,
     "metadata": {},
     "output_type": "execute_result"
    },
    {
     "data": {
      "image/png": "[encoded data removed]",
      "text/plain": [
       "<Figure size 432x288 with 1 Axes>"
      ]
     },
     "metadata": {
      "needs_background": "light"
     },
     "output_type": "display_data"
    }
   ],
   "source": [
    "dfa[['close','low']].plot()  ## plot two graphs\n"
   ]
  },
  {
   "cell_type": "code",
   "execution_count": null,
   "metadata": {},
   "outputs": [],
   "source": []
  },
  {
   "cell_type": "code",
   "execution_count": 106,
   "metadata": {},
   "outputs": [],
   "source": [
    "## building a dataframe in pandas and joining tables"
   ]
  },
  {
   "cell_type": "code",
   "execution_count": 107,
   "metadata": {},
   "outputs": [],
   "source": [
    "start_date = '2019/05/08'\n",
    "end_date='2019/05/29'\n",
    "\n",
    "dates = pd.date_range(start_date,end_date)"
   ]
  },
  {
   "cell_type": "code",
   "execution_count": 108,
   "metadata": {},
   "outputs": [
    {
     "data": {
      "text/plain": [
       "DatetimeIndex(['2019-05-08', '2019-05-09', '2019-05-10', '2019-05-11',\n",
       "               '2019-05-12', '2019-05-13', '2019-05-14', '2019-05-15',\n",
       "               '2019-05-16', '2019-05-17', '2019-05-18', '2019-05-19',\n",
       "               '2019-05-20', '2019-05-21', '2019-05-22', '2019-05-23',\n",
       "               '2019-05-24', '2019-05-25', '2019-05-26', '2019-05-27',\n",
       "               '2019-05-28', '2019-05-29'],\n",
       "              dtype='datetime64[ns]', freq='D')"
      ]
     },
     "execution_count": 108,
     "metadata": {},
     "output_type": "execute_result"
    }
   ],
   "source": [
    "dates"
   ]
  },
  {
   "cell_type": "code",
   "execution_count": 109,
   "metadata": {},
   "outputs": [
    {
     "data": {
      "text/plain": [
       "Timestamp('2019-05-11 00:00:00', freq='D')"
      ]
     },
     "execution_count": 109,
     "metadata": {},
     "output_type": "execute_result"
    }
   ],
   "source": [
    "dates[3]"
   ]
  },
  {
   "cell_type": "code",
   "execution_count": 110,
   "metadata": {},
   "outputs": [
    {
     "data": {
      "text/html": [
       "<div>\n",
       "<style scoped>\n",
       "    .dataframe tbody tr th:only-of-type {\n",
       "        vertical-align: middle;\n",
       "    }\n",
       "\n",
       "    .dataframe tbody tr th {\n",
       "        vertical-align: top;\n",
       "    }\n",
       "\n",
       "    .dataframe thead th {\n",
       "        text-align: right;\n",
       "    }\n",
       "</style>\n",
       "<table border=\"1\" class=\"dataframe\">\n",
       "  <thead>\n",
       "    <tr style=\"text-align: right;\">\n",
       "      <th></th>\n",
       "    </tr>\n",
       "  </thead>\n",
       "  <tbody>\n",
       "    <tr>\n",
       "      <th>2019-05-08</th>\n",
       "    </tr>\n",
       "    <tr>\n",
       "      <th>2019-05-09</th>\n",
       "    </tr>\n",
       "    <tr>\n",
       "      <th>2019-05-10</th>\n",
       "    </tr>\n",
       "    <tr>\n",
       "      <th>2019-05-11</th>\n",
       "    </tr>\n",
       "    <tr>\n",
       "      <th>2019-05-12</th>\n",
       "    </tr>\n",
       "  </tbody>\n",
       "</table>\n",
       "</div>"
      ],
      "text/plain": [
       "Empty DataFrame\n",
       "Columns: []\n",
       "Index: [2019-05-08 00:00:00, 2019-05-09 00:00:00, 2019-05-10 00:00:00, 2019-05-11 00:00:00, 2019-05-12 00:00:00]"
      ]
     },
     "execution_count": 110,
     "metadata": {},
     "output_type": "execute_result"
    }
   ],
   "source": [
    "df1=pd.DataFrame(index=dates)\n",
    "dfj=df1.copy()\n",
    "df1.head()"
   ]
  },
  {
   "cell_type": "code",
   "execution_count": 111,
   "metadata": {},
   "outputs": [
    {
     "data": {
      "text/html": [
       "<div>\n",
       "<style scoped>\n",
       "    .dataframe tbody tr th:only-of-type {\n",
       "        vertical-align: middle;\n",
       "    }\n",
       "\n",
       "    .dataframe tbody tr th {\n",
       "        vertical-align: top;\n",
       "    }\n",
       "\n",
       "    .dataframe thead th {\n",
       "        text-align: right;\n",
       "    }\n",
       "</style>\n",
       "<table border=\"1\" class=\"dataframe\">\n",
       "  <thead>\n",
       "    <tr style=\"text-align: right;\">\n",
       "      <th></th>\n",
       "      <th>close</th>\n",
       "      <th>volume</th>\n",
       "      <th>open</th>\n",
       "      <th>high</th>\n",
       "      <th>low</th>\n",
       "    </tr>\n",
       "  </thead>\n",
       "  <tbody>\n",
       "    <tr>\n",
       "      <th>2019-05-08</th>\n",
       "      <td>287.53</td>\n",
       "      <td>91568290.0000</td>\n",
       "      <td>287.53</td>\n",
       "      <td>289.43</td>\n",
       "      <td>286.87</td>\n",
       "    </tr>\n",
       "    <tr>\n",
       "      <th>2019-05-09</th>\n",
       "      <td>286.66</td>\n",
       "      <td>103471100.0000</td>\n",
       "      <td>285.23</td>\n",
       "      <td>287.33</td>\n",
       "      <td>283.30</td>\n",
       "    </tr>\n",
       "    <tr>\n",
       "      <th>2019-05-10</th>\n",
       "      <td>288.10</td>\n",
       "      <td>112429300.0000</td>\n",
       "      <td>285.62</td>\n",
       "      <td>288.94</td>\n",
       "      <td>282.30</td>\n",
       "    </tr>\n",
       "    <tr>\n",
       "      <th>2019-05-11</th>\n",
       "      <td>NaN</td>\n",
       "      <td>NaN</td>\n",
       "      <td>NaN</td>\n",
       "      <td>NaN</td>\n",
       "      <td>NaN</td>\n",
       "    </tr>\n",
       "    <tr>\n",
       "      <th>2019-05-12</th>\n",
       "      <td>NaN</td>\n",
       "      <td>NaN</td>\n",
       "      <td>NaN</td>\n",
       "      <td>NaN</td>\n",
       "      <td>NaN</td>\n",
       "    </tr>\n",
       "  </tbody>\n",
       "</table>\n",
       "</div>"
      ],
      "text/plain": [
       "             close          volume    open    high     low\n",
       "2019-05-08  287.53   91568290.0000  287.53  289.43  286.87\n",
       "2019-05-09  286.66  103471100.0000  285.23  287.33  283.30\n",
       "2019-05-10  288.10  112429300.0000  285.62  288.94  282.30\n",
       "2019-05-11     NaN             NaN     NaN     NaN     NaN\n",
       "2019-05-12     NaN             NaN     NaN     NaN     NaN"
      ]
     },
     "execution_count": 111,
     "metadata": {},
     "output_type": "execute_result"
    }
   ],
   "source": [
    "df1=df1.join(df)\n",
    "df2=df1.copy()## this is deep copy\n",
    "df3=df1.copy()\n",
    "df1.head()"
   ]
  },
  {
   "cell_type": "code",
   "execution_count": 112,
   "metadata": {},
   "outputs": [],
   "source": [
    "##***************************************************** rough *********************************************************************************"
   ]
  },
  {
   "cell_type": "code",
   "execution_count": 113,
   "metadata": {},
   "outputs": [],
   "source": [
    "## replacing nan values"
   ]
  },
  {
   "cell_type": "code",
   "execution_count": 114,
   "metadata": {},
   "outputs": [
    {
     "data": {
      "text/html": [
       "<div>\n",
       "<style scoped>\n",
       "    .dataframe tbody tr th:only-of-type {\n",
       "        vertical-align: middle;\n",
       "    }\n",
       "\n",
       "    .dataframe tbody tr th {\n",
       "        vertical-align: top;\n",
       "    }\n",
       "\n",
       "    .dataframe thead th {\n",
       "        text-align: right;\n",
       "    }\n",
       "</style>\n",
       "<table border=\"1\" class=\"dataframe\">\n",
       "  <thead>\n",
       "    <tr style=\"text-align: right;\">\n",
       "      <th></th>\n",
       "      <th>close</th>\n",
       "      <th>volume</th>\n",
       "      <th>open</th>\n",
       "      <th>high</th>\n",
       "      <th>low</th>\n",
       "    </tr>\n",
       "  </thead>\n",
       "  <tbody>\n",
       "    <tr>\n",
       "      <th>2019-05-08</th>\n",
       "      <td>287.53</td>\n",
       "      <td>91568290.0000</td>\n",
       "      <td>287.53</td>\n",
       "      <td>289.43</td>\n",
       "      <td>286.87</td>\n",
       "    </tr>\n",
       "    <tr>\n",
       "      <th>2019-05-09</th>\n",
       "      <td>286.66</td>\n",
       "      <td>103471100.0000</td>\n",
       "      <td>285.23</td>\n",
       "      <td>287.33</td>\n",
       "      <td>283.30</td>\n",
       "    </tr>\n",
       "    <tr>\n",
       "      <th>2019-05-10</th>\n",
       "      <td>288.10</td>\n",
       "      <td>112429300.0000</td>\n",
       "      <td>285.62</td>\n",
       "      <td>288.94</td>\n",
       "      <td>282.30</td>\n",
       "    </tr>\n",
       "    <tr>\n",
       "      <th>2019-05-11</th>\n",
       "      <td>NaN</td>\n",
       "      <td>NaN</td>\n",
       "      <td>NaN</td>\n",
       "      <td>NaN</td>\n",
       "      <td>282.30</td>\n",
       "    </tr>\n",
       "    <tr>\n",
       "      <th>2019-05-12</th>\n",
       "      <td>NaN</td>\n",
       "      <td>NaN</td>\n",
       "      <td>NaN</td>\n",
       "      <td>NaN</td>\n",
       "      <td>282.30</td>\n",
       "    </tr>\n",
       "  </tbody>\n",
       "</table>\n",
       "</div>"
      ],
      "text/plain": [
       "             close          volume    open    high     low\n",
       "2019-05-08  287.53   91568290.0000  287.53  289.43  286.87\n",
       "2019-05-09  286.66  103471100.0000  285.23  287.33  283.30\n",
       "2019-05-10  288.10  112429300.0000  285.62  288.94  282.30\n",
       "2019-05-11     NaN             NaN     NaN     NaN  282.30\n",
       "2019-05-12     NaN             NaN     NaN     NaN  282.30"
      ]
     },
     "execution_count": 114,
     "metadata": {},
     "output_type": "execute_result"
    }
   ],
   "source": [
    "df1[\"low\"].fillna( method ='ffill', inplace = True) \n",
    "df1.head()"
   ]
  },
  {
   "cell_type": "code",
   "execution_count": 115,
   "metadata": {},
   "outputs": [
    {
     "data": {
      "text/html": [
       "<div>\n",
       "<style scoped>\n",
       "    .dataframe tbody tr th:only-of-type {\n",
       "        vertical-align: middle;\n",
       "    }\n",
       "\n",
       "    .dataframe tbody tr th {\n",
       "        vertical-align: top;\n",
       "    }\n",
       "\n",
       "    .dataframe thead th {\n",
       "        text-align: right;\n",
       "    }\n",
       "</style>\n",
       "<table border=\"1\" class=\"dataframe\">\n",
       "  <thead>\n",
       "    <tr style=\"text-align: right;\">\n",
       "      <th></th>\n",
       "      <th>close</th>\n",
       "      <th>volume</th>\n",
       "      <th>open</th>\n",
       "      <th>high</th>\n",
       "      <th>low</th>\n",
       "    </tr>\n",
       "  </thead>\n",
       "  <tbody>\n",
       "    <tr>\n",
       "      <th>2019-05-08</th>\n",
       "      <td>287.53</td>\n",
       "      <td>91568290.0000</td>\n",
       "      <td>287.53</td>\n",
       "      <td>289.43</td>\n",
       "      <td>286.87</td>\n",
       "    </tr>\n",
       "    <tr>\n",
       "      <th>2019-05-09</th>\n",
       "      <td>286.66</td>\n",
       "      <td>103471100.0000</td>\n",
       "      <td>285.23</td>\n",
       "      <td>287.33</td>\n",
       "      <td>283.30</td>\n",
       "    </tr>\n",
       "    <tr>\n",
       "      <th>2019-05-10</th>\n",
       "      <td>288.10</td>\n",
       "      <td>112429300.0000</td>\n",
       "      <td>285.62</td>\n",
       "      <td>288.94</td>\n",
       "      <td>282.30</td>\n",
       "    </tr>\n",
       "    <tr>\n",
       "      <th>2019-05-11</th>\n",
       "      <td>NaN</td>\n",
       "      <td>NaN</td>\n",
       "      <td>NaN</td>\n",
       "      <td>none</td>\n",
       "      <td>282.30</td>\n",
       "    </tr>\n",
       "    <tr>\n",
       "      <th>2019-05-12</th>\n",
       "      <td>NaN</td>\n",
       "      <td>NaN</td>\n",
       "      <td>NaN</td>\n",
       "      <td>none</td>\n",
       "      <td>282.30</td>\n",
       "    </tr>\n",
       "  </tbody>\n",
       "</table>\n",
       "</div>"
      ],
      "text/plain": [
       "             close          volume    open    high     low\n",
       "2019-05-08  287.53   91568290.0000  287.53  289.43  286.87\n",
       "2019-05-09  286.66  103471100.0000  285.23  287.33  283.30\n",
       "2019-05-10  288.10  112429300.0000  285.62  288.94  282.30\n",
       "2019-05-11     NaN             NaN     NaN    none  282.30\n",
       "2019-05-12     NaN             NaN     NaN    none  282.30"
      ]
     },
     "execution_count": 115,
     "metadata": {},
     "output_type": "execute_result"
    }
   ],
   "source": [
    "df1['high'].fillna(\"none\",inplace=True)\n",
    "df1.head()"
   ]
  },
  {
   "cell_type": "code",
   "execution_count": 116,
   "metadata": {},
   "outputs": [
    {
     "data": {
      "text/html": [
       "<div>\n",
       "<style scoped>\n",
       "    .dataframe tbody tr th:only-of-type {\n",
       "        vertical-align: middle;\n",
       "    }\n",
       "\n",
       "    .dataframe tbody tr th {\n",
       "        vertical-align: top;\n",
       "    }\n",
       "\n",
       "    .dataframe thead th {\n",
       "        text-align: right;\n",
       "    }\n",
       "</style>\n",
       "<table border=\"1\" class=\"dataframe\">\n",
       "  <thead>\n",
       "    <tr style=\"text-align: right;\">\n",
       "      <th></th>\n",
       "      <th>close</th>\n",
       "      <th>volume</th>\n",
       "      <th>open</th>\n",
       "      <th>high</th>\n",
       "      <th>low</th>\n",
       "    </tr>\n",
       "  </thead>\n",
       "  <tbody>\n",
       "    <tr>\n",
       "      <th>2019-05-08</th>\n",
       "      <td>287.53</td>\n",
       "      <td>91568290.0000</td>\n",
       "      <td>287.53</td>\n",
       "      <td>289.43</td>\n",
       "      <td>286.87</td>\n",
       "    </tr>\n",
       "    <tr>\n",
       "      <th>2019-05-09</th>\n",
       "      <td>286.66</td>\n",
       "      <td>103471100.0000</td>\n",
       "      <td>285.23</td>\n",
       "      <td>287.33</td>\n",
       "      <td>283.30</td>\n",
       "    </tr>\n",
       "    <tr>\n",
       "      <th>2019-05-10</th>\n",
       "      <td>288.10</td>\n",
       "      <td>112429300.0000</td>\n",
       "      <td>285.62</td>\n",
       "      <td>288.94</td>\n",
       "      <td>282.30</td>\n",
       "    </tr>\n",
       "    <tr>\n",
       "      <th>2019-05-11</th>\n",
       "      <td>NaN</td>\n",
       "      <td>NaN</td>\n",
       "      <td>NaN</td>\n",
       "      <td>NaN</td>\n",
       "      <td>NaN</td>\n",
       "    </tr>\n",
       "    <tr>\n",
       "      <th>2019-05-12</th>\n",
       "      <td>NaN</td>\n",
       "      <td>NaN</td>\n",
       "      <td>NaN</td>\n",
       "      <td>NaN</td>\n",
       "      <td>NaN</td>\n",
       "    </tr>\n",
       "  </tbody>\n",
       "</table>\n",
       "</div>"
      ],
      "text/plain": [
       "             close          volume    open    high     low\n",
       "2019-05-08  287.53   91568290.0000  287.53  289.43  286.87\n",
       "2019-05-09  286.66  103471100.0000  285.23  287.33  283.30\n",
       "2019-05-10  288.10  112429300.0000  285.62  288.94  282.30\n",
       "2019-05-11     NaN             NaN     NaN     NaN     NaN\n",
       "2019-05-12     NaN             NaN     NaN     NaN     NaN"
      ]
     },
     "execution_count": 116,
     "metadata": {},
     "output_type": "execute_result"
    }
   ],
   "source": [
    "df2.head()"
   ]
  },
  {
   "cell_type": "code",
   "execution_count": null,
   "metadata": {},
   "outputs": [],
   "source": []
  },
  {
   "cell_type": "code",
   "execution_count": 117,
   "metadata": {},
   "outputs": [],
   "source": [
    "## replacing nan to anything"
   ]
  },
  {
   "cell_type": "code",
   "execution_count": 118,
   "metadata": {},
   "outputs": [
    {
     "data": {
      "text/html": [
       "<div>\n",
       "<style scoped>\n",
       "    .dataframe tbody tr th:only-of-type {\n",
       "        vertical-align: middle;\n",
       "    }\n",
       "\n",
       "    .dataframe tbody tr th {\n",
       "        vertical-align: top;\n",
       "    }\n",
       "\n",
       "    .dataframe thead th {\n",
       "        text-align: right;\n",
       "    }\n",
       "</style>\n",
       "<table border=\"1\" class=\"dataframe\">\n",
       "  <thead>\n",
       "    <tr style=\"text-align: right;\">\n",
       "      <th></th>\n",
       "      <th>close</th>\n",
       "      <th>volume</th>\n",
       "      <th>open</th>\n",
       "      <th>high</th>\n",
       "      <th>low</th>\n",
       "    </tr>\n",
       "  </thead>\n",
       "  <tbody>\n",
       "    <tr>\n",
       "      <th>2019-05-08</th>\n",
       "      <td>287.53</td>\n",
       "      <td>91568290.0000</td>\n",
       "      <td>287.53</td>\n",
       "      <td>289.43</td>\n",
       "      <td>286.87</td>\n",
       "    </tr>\n",
       "    <tr>\n",
       "      <th>2019-05-09</th>\n",
       "      <td>286.66</td>\n",
       "      <td>103471100.0000</td>\n",
       "      <td>285.23</td>\n",
       "      <td>287.33</td>\n",
       "      <td>283.3</td>\n",
       "    </tr>\n",
       "    <tr>\n",
       "      <th>2019-05-10</th>\n",
       "      <td>288.10</td>\n",
       "      <td>112429300.0000</td>\n",
       "      <td>285.62</td>\n",
       "      <td>288.94</td>\n",
       "      <td>282.3</td>\n",
       "    </tr>\n",
       "    <tr>\n",
       "      <th>2019-05-11</th>\n",
       "      <td>NaN</td>\n",
       "      <td>NaN</td>\n",
       "      <td>NaN</td>\n",
       "      <td>NaN</td>\n",
       "      <td>col</td>\n",
       "    </tr>\n",
       "    <tr>\n",
       "      <th>2019-05-12</th>\n",
       "      <td>NaN</td>\n",
       "      <td>NaN</td>\n",
       "      <td>NaN</td>\n",
       "      <td>NaN</td>\n",
       "      <td>col</td>\n",
       "    </tr>\n",
       "  </tbody>\n",
       "</table>\n",
       "</div>"
      ],
      "text/plain": [
       "             close          volume    open    high     low\n",
       "2019-05-08  287.53   91568290.0000  287.53  289.43  286.87\n",
       "2019-05-09  286.66  103471100.0000  285.23  287.33   283.3\n",
       "2019-05-10  288.10  112429300.0000  285.62  288.94   282.3\n",
       "2019-05-11     NaN             NaN     NaN     NaN     col\n",
       "2019-05-12     NaN             NaN     NaN     NaN     col"
      ]
     },
     "execution_count": 118,
     "metadata": {},
     "output_type": "execute_result"
    }
   ],
   "source": [
    "# for column\n",
    "df2['low'] = df2['low'].replace(np.nan, 'col')\n",
    "df2.head()\n"
   ]
  },
  {
   "cell_type": "code",
   "execution_count": null,
   "metadata": {},
   "outputs": [],
   "source": []
  },
  {
   "cell_type": "code",
   "execution_count": 119,
   "metadata": {},
   "outputs": [
    {
     "data": {
      "text/html": [
       "<div>\n",
       "<style scoped>\n",
       "    .dataframe tbody tr th:only-of-type {\n",
       "        vertical-align: middle;\n",
       "    }\n",
       "\n",
       "    .dataframe tbody tr th {\n",
       "        vertical-align: top;\n",
       "    }\n",
       "\n",
       "    .dataframe thead th {\n",
       "        text-align: right;\n",
       "    }\n",
       "</style>\n",
       "<table border=\"1\" class=\"dataframe\">\n",
       "  <thead>\n",
       "    <tr style=\"text-align: right;\">\n",
       "      <th></th>\n",
       "      <th>close</th>\n",
       "      <th>volume</th>\n",
       "      <th>open</th>\n",
       "      <th>high</th>\n",
       "      <th>low</th>\n",
       "    </tr>\n",
       "  </thead>\n",
       "  <tbody>\n",
       "    <tr>\n",
       "      <th>2019-05-08</th>\n",
       "      <td>287.53</td>\n",
       "      <td>91568290.0000</td>\n",
       "      <td>287.53</td>\n",
       "      <td>289.43</td>\n",
       "      <td>286.87</td>\n",
       "    </tr>\n",
       "    <tr>\n",
       "      <th>2019-05-09</th>\n",
       "      <td>286.66</td>\n",
       "      <td>103471100.0000</td>\n",
       "      <td>285.23</td>\n",
       "      <td>287.33</td>\n",
       "      <td>283.3</td>\n",
       "    </tr>\n",
       "    <tr>\n",
       "      <th>2019-05-10</th>\n",
       "      <td>288.1</td>\n",
       "      <td>112429300.0000</td>\n",
       "      <td>285.62</td>\n",
       "      <td>288.94</td>\n",
       "      <td>282.3</td>\n",
       "    </tr>\n",
       "    <tr>\n",
       "      <th>2019-05-11</th>\n",
       "      <td>inpl</td>\n",
       "      <td>inpl</td>\n",
       "      <td>inpl</td>\n",
       "      <td>inpl</td>\n",
       "      <td>col</td>\n",
       "    </tr>\n",
       "    <tr>\n",
       "      <th>2019-05-12</th>\n",
       "      <td>inpl</td>\n",
       "      <td>inpl</td>\n",
       "      <td>inpl</td>\n",
       "      <td>inpl</td>\n",
       "      <td>col</td>\n",
       "    </tr>\n",
       "  </tbody>\n",
       "</table>\n",
       "</div>"
      ],
      "text/plain": [
       "             close          volume    open    high     low\n",
       "2019-05-08  287.53   91568290.0000  287.53  289.43  286.87\n",
       "2019-05-09  286.66  103471100.0000  285.23  287.33   283.3\n",
       "2019-05-10   288.1  112429300.0000  285.62  288.94   282.3\n",
       "2019-05-11    inpl            inpl    inpl    inpl     col\n",
       "2019-05-12    inpl            inpl    inpl    inpl     col"
      ]
     },
     "execution_count": 119,
     "metadata": {},
     "output_type": "execute_result"
    }
   ],
   "source": [
    "# inplace\n",
    "df2.replace(np.nan, 'inpl', inplace=True)\n",
    "df2.head()\n"
   ]
  },
  {
   "cell_type": "code",
   "execution_count": 120,
   "metadata": {},
   "outputs": [
    {
     "data": {
      "text/html": [
       "<div>\n",
       "<style scoped>\n",
       "    .dataframe tbody tr th:only-of-type {\n",
       "        vertical-align: middle;\n",
       "    }\n",
       "\n",
       "    .dataframe tbody tr th {\n",
       "        vertical-align: top;\n",
       "    }\n",
       "\n",
       "    .dataframe thead th {\n",
       "        text-align: right;\n",
       "    }\n",
       "</style>\n",
       "<table border=\"1\" class=\"dataframe\">\n",
       "  <thead>\n",
       "    <tr style=\"text-align: right;\">\n",
       "      <th></th>\n",
       "      <th>close</th>\n",
       "      <th>volume</th>\n",
       "      <th>open</th>\n",
       "      <th>high</th>\n",
       "      <th>low</th>\n",
       "    </tr>\n",
       "  </thead>\n",
       "  <tbody>\n",
       "    <tr>\n",
       "      <th>2019-05-08</th>\n",
       "      <td>287.53</td>\n",
       "      <td>91568290.0000</td>\n",
       "      <td>287.53</td>\n",
       "      <td>289.43</td>\n",
       "      <td>286.87</td>\n",
       "    </tr>\n",
       "    <tr>\n",
       "      <th>2019-05-09</th>\n",
       "      <td>286.66</td>\n",
       "      <td>103471100.0000</td>\n",
       "      <td>285.23</td>\n",
       "      <td>287.33</td>\n",
       "      <td>283.3</td>\n",
       "    </tr>\n",
       "    <tr>\n",
       "      <th>2019-05-10</th>\n",
       "      <td>288.1</td>\n",
       "      <td>112429300.0000</td>\n",
       "      <td>285.62</td>\n",
       "      <td>288.94</td>\n",
       "      <td>282.3</td>\n",
       "    </tr>\n",
       "    <tr>\n",
       "      <th>2019-05-11</th>\n",
       "      <td>inpl</td>\n",
       "      <td>inpl</td>\n",
       "      <td>inpl</td>\n",
       "      <td>inpl</td>\n",
       "      <td>col</td>\n",
       "    </tr>\n",
       "    <tr>\n",
       "      <th>2019-05-12</th>\n",
       "      <td>inpl</td>\n",
       "      <td>inpl</td>\n",
       "      <td>inpl</td>\n",
       "      <td>inpl</td>\n",
       "      <td>col</td>\n",
       "    </tr>\n",
       "  </tbody>\n",
       "</table>\n",
       "</div>"
      ],
      "text/plain": [
       "             close          volume    open    high     low\n",
       "2019-05-08  287.53   91568290.0000  287.53  289.43  286.87\n",
       "2019-05-09  286.66  103471100.0000  285.23  287.33   283.3\n",
       "2019-05-10   288.1  112429300.0000  285.62  288.94   282.3\n",
       "2019-05-11    inpl            inpl    inpl    inpl     col\n",
       "2019-05-12    inpl            inpl    inpl    inpl     col"
      ]
     },
     "execution_count": 120,
     "metadata": {},
     "output_type": "execute_result"
    }
   ],
   "source": [
    "# for whole dataframe\n",
    "df2 = df2.replace(np.nan, 'whole')\n",
    "df2.head()"
   ]
  },
  {
   "cell_type": "code",
   "execution_count": 121,
   "metadata": {},
   "outputs": [],
   "source": [
    "##************************************************************* end ****************************************************"
   ]
  },
  {
   "cell_type": "code",
   "execution_count": 122,
   "metadata": {},
   "outputs": [
    {
     "data": {
      "text/html": [
       "<div>\n",
       "<style scoped>\n",
       "    .dataframe tbody tr th:only-of-type {\n",
       "        vertical-align: middle;\n",
       "    }\n",
       "\n",
       "    .dataframe tbody tr th {\n",
       "        vertical-align: top;\n",
       "    }\n",
       "\n",
       "    .dataframe thead th {\n",
       "        text-align: right;\n",
       "    }\n",
       "</style>\n",
       "<table border=\"1\" class=\"dataframe\">\n",
       "  <thead>\n",
       "    <tr style=\"text-align: right;\">\n",
       "      <th></th>\n",
       "      <th>close</th>\n",
       "      <th>volume</th>\n",
       "      <th>open</th>\n",
       "      <th>high</th>\n",
       "      <th>low</th>\n",
       "    </tr>\n",
       "  </thead>\n",
       "  <tbody>\n",
       "    <tr>\n",
       "      <th>2019-05-08</th>\n",
       "      <td>287.53</td>\n",
       "      <td>91568290.0000</td>\n",
       "      <td>287.53</td>\n",
       "      <td>289.43</td>\n",
       "      <td>286.87</td>\n",
       "    </tr>\n",
       "    <tr>\n",
       "      <th>2019-05-09</th>\n",
       "      <td>286.66</td>\n",
       "      <td>103471100.0000</td>\n",
       "      <td>285.23</td>\n",
       "      <td>287.33</td>\n",
       "      <td>283.30</td>\n",
       "    </tr>\n",
       "    <tr>\n",
       "      <th>2019-05-10</th>\n",
       "      <td>288.10</td>\n",
       "      <td>112429300.0000</td>\n",
       "      <td>285.62</td>\n",
       "      <td>288.94</td>\n",
       "      <td>282.30</td>\n",
       "    </tr>\n",
       "    <tr>\n",
       "      <th>2019-05-11</th>\n",
       "      <td>NaN</td>\n",
       "      <td>NaN</td>\n",
       "      <td>NaN</td>\n",
       "      <td>NaN</td>\n",
       "      <td>NaN</td>\n",
       "    </tr>\n",
       "    <tr>\n",
       "      <th>2019-05-12</th>\n",
       "      <td>NaN</td>\n",
       "      <td>NaN</td>\n",
       "      <td>NaN</td>\n",
       "      <td>NaN</td>\n",
       "      <td>NaN</td>\n",
       "    </tr>\n",
       "  </tbody>\n",
       "</table>\n",
       "</div>"
      ],
      "text/plain": [
       "             close          volume    open    high     low\n",
       "2019-05-08  287.53   91568290.0000  287.53  289.43  286.87\n",
       "2019-05-09  286.66  103471100.0000  285.23  287.33  283.30\n",
       "2019-05-10  288.10  112429300.0000  285.62  288.94  282.30\n",
       "2019-05-11     NaN             NaN     NaN     NaN     NaN\n",
       "2019-05-12     NaN             NaN     NaN     NaN     NaN"
      ]
     },
     "execution_count": 122,
     "metadata": {},
     "output_type": "execute_result"
    }
   ],
   "source": [
    "df3.head()"
   ]
  },
  {
   "cell_type": "code",
   "execution_count": 123,
   "metadata": {},
   "outputs": [
    {
     "data": {
      "text/html": [
       "<div>\n",
       "<style scoped>\n",
       "    .dataframe tbody tr th:only-of-type {\n",
       "        vertical-align: middle;\n",
       "    }\n",
       "\n",
       "    .dataframe tbody tr th {\n",
       "        vertical-align: top;\n",
       "    }\n",
       "\n",
       "    .dataframe thead th {\n",
       "        text-align: right;\n",
       "    }\n",
       "</style>\n",
       "<table border=\"1\" class=\"dataframe\">\n",
       "  <thead>\n",
       "    <tr style=\"text-align: right;\">\n",
       "      <th></th>\n",
       "      <th>close</th>\n",
       "      <th>volume</th>\n",
       "      <th>open</th>\n",
       "      <th>high</th>\n",
       "      <th>low</th>\n",
       "    </tr>\n",
       "  </thead>\n",
       "  <tbody>\n",
       "    <tr>\n",
       "      <th>2019-05-08</th>\n",
       "      <td>287.53</td>\n",
       "      <td>91568290.0000</td>\n",
       "      <td>287.53</td>\n",
       "      <td>289.43</td>\n",
       "      <td>286.87</td>\n",
       "    </tr>\n",
       "    <tr>\n",
       "      <th>2019-05-09</th>\n",
       "      <td>286.66</td>\n",
       "      <td>103471100.0000</td>\n",
       "      <td>285.23</td>\n",
       "      <td>287.33</td>\n",
       "      <td>283.30</td>\n",
       "    </tr>\n",
       "    <tr>\n",
       "      <th>2019-05-10</th>\n",
       "      <td>288.10</td>\n",
       "      <td>112429300.0000</td>\n",
       "      <td>285.62</td>\n",
       "      <td>288.94</td>\n",
       "      <td>282.30</td>\n",
       "    </tr>\n",
       "    <tr>\n",
       "      <th>2019-05-13</th>\n",
       "      <td>280.86</td>\n",
       "      <td>127290500.0000</td>\n",
       "      <td>282.42</td>\n",
       "      <td>283.49</td>\n",
       "      <td>279.93</td>\n",
       "    </tr>\n",
       "    <tr>\n",
       "      <th>2019-05-14</th>\n",
       "      <td>283.40</td>\n",
       "      <td>77003230.0000</td>\n",
       "      <td>281.99</td>\n",
       "      <td>285.10</td>\n",
       "      <td>281.85</td>\n",
       "    </tr>\n",
       "  </tbody>\n",
       "</table>\n",
       "</div>"
      ],
      "text/plain": [
       "             close          volume    open    high     low\n",
       "2019-05-08  287.53   91568290.0000  287.53  289.43  286.87\n",
       "2019-05-09  286.66  103471100.0000  285.23  287.33  283.30\n",
       "2019-05-10  288.10  112429300.0000  285.62  288.94  282.30\n",
       "2019-05-13  280.86  127290500.0000  282.42  283.49  279.93\n",
       "2019-05-14  283.40   77003230.0000  281.99  285.10  281.85"
      ]
     },
     "execution_count": 123,
     "metadata": {},
     "output_type": "execute_result"
    }
   ],
   "source": [
    "df4=df3.dropna()\n",
    "df4.head()"
   ]
  },
  {
   "cell_type": "code",
   "execution_count": 124,
   "metadata": {},
   "outputs": [
    {
     "data": {
      "text/html": [
       "<div>\n",
       "<style scoped>\n",
       "    .dataframe tbody tr th:only-of-type {\n",
       "        vertical-align: middle;\n",
       "    }\n",
       "\n",
       "    .dataframe tbody tr th {\n",
       "        vertical-align: top;\n",
       "    }\n",
       "\n",
       "    .dataframe thead th {\n",
       "        text-align: right;\n",
       "    }\n",
       "</style>\n",
       "<table border=\"1\" class=\"dataframe\">\n",
       "  <thead>\n",
       "    <tr style=\"text-align: right;\">\n",
       "      <th></th>\n",
       "      <th>close</th>\n",
       "      <th>volume</th>\n",
       "      <th>open</th>\n",
       "      <th>high</th>\n",
       "      <th>low</th>\n",
       "    </tr>\n",
       "  </thead>\n",
       "  <tbody>\n",
       "    <tr>\n",
       "      <th>2019-05-08</th>\n",
       "      <td>287.53</td>\n",
       "      <td>91568290.0000</td>\n",
       "      <td>287.53</td>\n",
       "      <td>289.43</td>\n",
       "      <td>286.87</td>\n",
       "    </tr>\n",
       "    <tr>\n",
       "      <th>2019-05-09</th>\n",
       "      <td>286.66</td>\n",
       "      <td>103471100.0000</td>\n",
       "      <td>285.23</td>\n",
       "      <td>287.33</td>\n",
       "      <td>283.30</td>\n",
       "    </tr>\n",
       "    <tr>\n",
       "      <th>2019-05-10</th>\n",
       "      <td>288.10</td>\n",
       "      <td>112429300.0000</td>\n",
       "      <td>285.62</td>\n",
       "      <td>288.94</td>\n",
       "      <td>282.30</td>\n",
       "    </tr>\n",
       "    <tr>\n",
       "      <th>2019-05-11</th>\n",
       "      <td>NaN</td>\n",
       "      <td>NaN</td>\n",
       "      <td>NaN</td>\n",
       "      <td>NaN</td>\n",
       "      <td>NaN</td>\n",
       "    </tr>\n",
       "    <tr>\n",
       "      <th>2019-05-12</th>\n",
       "      <td>NaN</td>\n",
       "      <td>NaN</td>\n",
       "      <td>NaN</td>\n",
       "      <td>NaN</td>\n",
       "      <td>NaN</td>\n",
       "    </tr>\n",
       "  </tbody>\n",
       "</table>\n",
       "</div>"
      ],
      "text/plain": [
       "             close          volume    open    high     low\n",
       "2019-05-08  287.53   91568290.0000  287.53  289.43  286.87\n",
       "2019-05-09  286.66  103471100.0000  285.23  287.33  283.30\n",
       "2019-05-10  288.10  112429300.0000  285.62  288.94  282.30\n",
       "2019-05-11     NaN             NaN     NaN     NaN     NaN\n",
       "2019-05-12     NaN             NaN     NaN     NaN     NaN"
      ]
     },
     "execution_count": 124,
     "metadata": {},
     "output_type": "execute_result"
    }
   ],
   "source": [
    "df3.head()"
   ]
  },
  {
   "cell_type": "code",
   "execution_count": null,
   "metadata": {},
   "outputs": [],
   "source": []
  },
  {
   "cell_type": "code",
   "execution_count": null,
   "metadata": {},
   "outputs": [],
   "source": []
  },
  {
   "cell_type": "code",
   "execution_count": 125,
   "metadata": {},
   "outputs": [],
   "source": [
    "###  merging the dataframe automatically"
   ]
  },
  {
   "cell_type": "code",
   "execution_count": 126,
   "metadata": {},
   "outputs": [
    {
     "data": {
      "text/html": [
       "<div>\n",
       "<style scoped>\n",
       "    .dataframe tbody tr th:only-of-type {\n",
       "        vertical-align: middle;\n",
       "    }\n",
       "\n",
       "    .dataframe tbody tr th {\n",
       "        vertical-align: top;\n",
       "    }\n",
       "\n",
       "    .dataframe thead th {\n",
       "        text-align: right;\n",
       "    }\n",
       "</style>\n",
       "<table border=\"1\" class=\"dataframe\">\n",
       "  <thead>\n",
       "    <tr style=\"text-align: right;\">\n",
       "      <th></th>\n",
       "    </tr>\n",
       "  </thead>\n",
       "  <tbody>\n",
       "    <tr>\n",
       "      <th>2019-05-08</th>\n",
       "    </tr>\n",
       "    <tr>\n",
       "      <th>2019-05-09</th>\n",
       "    </tr>\n",
       "    <tr>\n",
       "      <th>2019-05-10</th>\n",
       "    </tr>\n",
       "    <tr>\n",
       "      <th>2019-05-11</th>\n",
       "    </tr>\n",
       "    <tr>\n",
       "      <th>2019-05-12</th>\n",
       "    </tr>\n",
       "  </tbody>\n",
       "</table>\n",
       "</div>"
      ],
      "text/plain": [
       "Empty DataFrame\n",
       "Columns: []\n",
       "Index: [2019-05-08 00:00:00, 2019-05-09 00:00:00, 2019-05-10 00:00:00, 2019-05-11 00:00:00, 2019-05-12 00:00:00]"
      ]
     },
     "execution_count": 126,
     "metadata": {},
     "output_type": "execute_result"
    }
   ],
   "source": [
    "dfj.head()"
   ]
  },
  {
   "cell_type": "code",
   "execution_count": 127,
   "metadata": {},
   "outputs": [
    {
     "data": {
      "text/html": [
       "<div>\n",
       "<style scoped>\n",
       "    .dataframe tbody tr th:only-of-type {\n",
       "        vertical-align: middle;\n",
       "    }\n",
       "\n",
       "    .dataframe tbody tr th {\n",
       "        vertical-align: top;\n",
       "    }\n",
       "\n",
       "    .dataframe thead th {\n",
       "        text-align: right;\n",
       "    }\n",
       "</style>\n",
       "<table border=\"1\" class=\"dataframe\">\n",
       "  <thead>\n",
       "    <tr style=\"text-align: right;\">\n",
       "      <th></th>\n",
       "      <th>close</th>\n",
       "      <th>volume</th>\n",
       "      <th>open</th>\n",
       "      <th>high</th>\n",
       "      <th>low</th>\n",
       "    </tr>\n",
       "    <tr>\n",
       "      <th>date</th>\n",
       "      <th></th>\n",
       "      <th></th>\n",
       "      <th></th>\n",
       "      <th></th>\n",
       "      <th></th>\n",
       "    </tr>\n",
       "  </thead>\n",
       "  <tbody>\n",
       "    <tr>\n",
       "      <th>2019-06-06 16:00:00</th>\n",
       "      <td>280.53</td>\n",
       "      <td>76,053,037</td>\n",
       "      <td>277.12</td>\n",
       "      <td>280.680</td>\n",
       "      <td>276.620</td>\n",
       "    </tr>\n",
       "    <tr>\n",
       "      <th>2019-06-04 00:00:00</th>\n",
       "      <td>280.53</td>\n",
       "      <td>77231890.0000</td>\n",
       "      <td>277.12</td>\n",
       "      <td>280.680</td>\n",
       "      <td>276.620</td>\n",
       "    </tr>\n",
       "    <tr>\n",
       "      <th>2019-06-03 00:00:00</th>\n",
       "      <td>274.57</td>\n",
       "      <td>96427950.0000</td>\n",
       "      <td>275.31</td>\n",
       "      <td>276.552</td>\n",
       "      <td>273.090</td>\n",
       "    </tr>\n",
       "    <tr>\n",
       "      <th>2019-05-31 00:00:00</th>\n",
       "      <td>275.27</td>\n",
       "      <td>86862780.0000</td>\n",
       "      <td>276.20</td>\n",
       "      <td>277.120</td>\n",
       "      <td>275.240</td>\n",
       "    </tr>\n",
       "    <tr>\n",
       "      <th>2019-05-30 00:00:00</th>\n",
       "      <td>279.03</td>\n",
       "      <td>62523780.0000</td>\n",
       "      <td>279.11</td>\n",
       "      <td>280.040</td>\n",
       "      <td>277.805</td>\n",
       "    </tr>\n",
       "  </tbody>\n",
       "</table>\n",
       "</div>"
      ],
      "text/plain": [
       "                      close         volume    open     high      low\n",
       "date                                                                \n",
       "2019-06-06 16:00:00  280.53     76,053,037  277.12  280.680  276.620\n",
       "2019-06-04 00:00:00  280.53  77231890.0000  277.12  280.680  276.620\n",
       "2019-06-03 00:00:00  274.57  96427950.0000  275.31  276.552  273.090\n",
       "2019-05-31 00:00:00  275.27  86862780.0000  276.20  277.120  275.240\n",
       "2019-05-30 00:00:00  279.03  62523780.0000  279.11  280.040  277.805"
      ]
     },
     "execution_count": 127,
     "metadata": {},
     "output_type": "execute_result"
    }
   ],
   "source": [
    "df.head()"
   ]
  },
  {
   "cell_type": "code",
   "execution_count": 128,
   "metadata": {},
   "outputs": [],
   "source": [
    "###  inner join "
   ]
  },
  {
   "cell_type": "code",
   "execution_count": 129,
   "metadata": {},
   "outputs": [
    {
     "data": {
      "text/html": [
       "<div>\n",
       "<style scoped>\n",
       "    .dataframe tbody tr th:only-of-type {\n",
       "        vertical-align: middle;\n",
       "    }\n",
       "\n",
       "    .dataframe tbody tr th {\n",
       "        vertical-align: top;\n",
       "    }\n",
       "\n",
       "    .dataframe thead th {\n",
       "        text-align: right;\n",
       "    }\n",
       "</style>\n",
       "<table border=\"1\" class=\"dataframe\">\n",
       "  <thead>\n",
       "    <tr style=\"text-align: right;\">\n",
       "      <th></th>\n",
       "      <th>close</th>\n",
       "      <th>volume</th>\n",
       "      <th>open</th>\n",
       "      <th>high</th>\n",
       "      <th>low</th>\n",
       "    </tr>\n",
       "  </thead>\n",
       "  <tbody>\n",
       "    <tr>\n",
       "      <th>2019-05-08</th>\n",
       "      <td>287.53</td>\n",
       "      <td>91568290.0000</td>\n",
       "      <td>287.53</td>\n",
       "      <td>289.43</td>\n",
       "      <td>286.870</td>\n",
       "    </tr>\n",
       "    <tr>\n",
       "      <th>2019-05-09</th>\n",
       "      <td>286.66</td>\n",
       "      <td>103471100.0000</td>\n",
       "      <td>285.23</td>\n",
       "      <td>287.33</td>\n",
       "      <td>283.300</td>\n",
       "    </tr>\n",
       "    <tr>\n",
       "      <th>2019-05-10</th>\n",
       "      <td>288.10</td>\n",
       "      <td>112429300.0000</td>\n",
       "      <td>285.62</td>\n",
       "      <td>288.94</td>\n",
       "      <td>282.300</td>\n",
       "    </tr>\n",
       "    <tr>\n",
       "      <th>2019-05-13</th>\n",
       "      <td>280.86</td>\n",
       "      <td>127290500.0000</td>\n",
       "      <td>282.42</td>\n",
       "      <td>283.49</td>\n",
       "      <td>279.930</td>\n",
       "    </tr>\n",
       "    <tr>\n",
       "      <th>2019-05-14</th>\n",
       "      <td>283.40</td>\n",
       "      <td>77003230.0000</td>\n",
       "      <td>281.99</td>\n",
       "      <td>285.10</td>\n",
       "      <td>281.850</td>\n",
       "    </tr>\n",
       "    <tr>\n",
       "      <th>2019-05-15</th>\n",
       "      <td>285.06</td>\n",
       "      <td>73956410.0000</td>\n",
       "      <td>281.59</td>\n",
       "      <td>285.77</td>\n",
       "      <td>281.360</td>\n",
       "    </tr>\n",
       "    <tr>\n",
       "      <th>2019-05-16</th>\n",
       "      <td>287.70</td>\n",
       "      <td>76749640.0000</td>\n",
       "      <td>285.84</td>\n",
       "      <td>289.21</td>\n",
       "      <td>285.760</td>\n",
       "    </tr>\n",
       "    <tr>\n",
       "      <th>2019-05-17</th>\n",
       "      <td>285.84</td>\n",
       "      <td>100353000.0000</td>\n",
       "      <td>285.14</td>\n",
       "      <td>288.60</td>\n",
       "      <td>285.121</td>\n",
       "    </tr>\n",
       "    <tr>\n",
       "      <th>2019-05-20</th>\n",
       "      <td>283.95</td>\n",
       "      <td>62877610.0000</td>\n",
       "      <td>284.06</td>\n",
       "      <td>285.43</td>\n",
       "      <td>283.120</td>\n",
       "    </tr>\n",
       "    <tr>\n",
       "      <th>2019-05-21</th>\n",
       "      <td>286.51</td>\n",
       "      <td>46847090.0000</td>\n",
       "      <td>285.83</td>\n",
       "      <td>286.93</td>\n",
       "      <td>285.550</td>\n",
       "    </tr>\n",
       "    <tr>\n",
       "      <th>2019-05-22</th>\n",
       "      <td>285.63</td>\n",
       "      <td>49482470.0000</td>\n",
       "      <td>285.45</td>\n",
       "      <td>286.69</td>\n",
       "      <td>285.100</td>\n",
       "    </tr>\n",
       "    <tr>\n",
       "      <th>2019-05-23</th>\n",
       "      <td>282.14</td>\n",
       "      <td>98733850.0000</td>\n",
       "      <td>283.16</td>\n",
       "      <td>283.21</td>\n",
       "      <td>280.570</td>\n",
       "    </tr>\n",
       "    <tr>\n",
       "      <th>2019-05-24</th>\n",
       "      <td>282.78</td>\n",
       "      <td>55268100.0000</td>\n",
       "      <td>283.74</td>\n",
       "      <td>284.20</td>\n",
       "      <td>282.090</td>\n",
       "    </tr>\n",
       "    <tr>\n",
       "      <th>2019-05-28</th>\n",
       "      <td>280.15</td>\n",
       "      <td>70029360.0000</td>\n",
       "      <td>283.09</td>\n",
       "      <td>284.15</td>\n",
       "      <td>280.130</td>\n",
       "    </tr>\n",
       "    <tr>\n",
       "      <th>2019-05-29</th>\n",
       "      <td>278.27</td>\n",
       "      <td>104972900.0000</td>\n",
       "      <td>278.91</td>\n",
       "      <td>279.36</td>\n",
       "      <td>276.710</td>\n",
       "    </tr>\n",
       "  </tbody>\n",
       "</table>\n",
       "</div>"
      ],
      "text/plain": [
       "             close          volume    open    high      low\n",
       "2019-05-08  287.53   91568290.0000  287.53  289.43  286.870\n",
       "2019-05-09  286.66  103471100.0000  285.23  287.33  283.300\n",
       "2019-05-10  288.10  112429300.0000  285.62  288.94  282.300\n",
       "2019-05-13  280.86  127290500.0000  282.42  283.49  279.930\n",
       "2019-05-14  283.40   77003230.0000  281.99  285.10  281.850\n",
       "2019-05-15  285.06   73956410.0000  281.59  285.77  281.360\n",
       "2019-05-16  287.70   76749640.0000  285.84  289.21  285.760\n",
       "2019-05-17  285.84  100353000.0000  285.14  288.60  285.121\n",
       "2019-05-20  283.95   62877610.0000  284.06  285.43  283.120\n",
       "2019-05-21  286.51   46847090.0000  285.83  286.93  285.550\n",
       "2019-05-22  285.63   49482470.0000  285.45  286.69  285.100\n",
       "2019-05-23  282.14   98733850.0000  283.16  283.21  280.570\n",
       "2019-05-24  282.78   55268100.0000  283.74  284.20  282.090\n",
       "2019-05-28  280.15   70029360.0000  283.09  284.15  280.130\n",
       "2019-05-29  278.27  104972900.0000  278.91  279.36  276.710"
      ]
     },
     "execution_count": 129,
     "metadata": {},
     "output_type": "execute_result"
    }
   ],
   "source": [
    "dfj=dfj.join(df,how='inner')\n",
    "dfj"
   ]
  },
  {
   "cell_type": "code",
   "execution_count": 130,
   "metadata": {},
   "outputs": [
    {
     "data": {
      "text/plain": [
       "close            287.53\n",
       "volume    91568290.0000\n",
       "open             287.53\n",
       "high             289.43\n",
       "low              286.87\n",
       "Name: 2019-05-08 00:00:00, dtype: object"
      ]
     },
     "execution_count": 130,
     "metadata": {},
     "output_type": "execute_result"
    }
   ],
   "source": [
    "dfj.iloc[0]"
   ]
  },
  {
   "cell_type": "code",
   "execution_count": 131,
   "metadata": {},
   "outputs": [
    {
     "data": {
      "image/png": "[encoded data removed]",
      "text/plain": [
       "<Figure size 432x288 with 1 Axes>"
      ]
     },
     "metadata": {
      "needs_background": "light"
     },
     "output_type": "display_data"
    }
   ],
   "source": [
    "## plot data and set titles\n",
    "\n",
    "ax=dfj.plot(title='stock prices',fontsize=2)\n",
    "ax.set_xlabel('Date')\n",
    "ax.set_ylabel('Price')\n",
    "plt.show()"
   ]
  },
  {
   "cell_type": "code",
   "execution_count": 147,
   "metadata": {},
   "outputs": [
    {
     "data": {
      "text/html": [
       "<div>\n",
       "<style scoped>\n",
       "    .dataframe tbody tr th:only-of-type {\n",
       "        vertical-align: middle;\n",
       "    }\n",
       "\n",
       "    .dataframe tbody tr th {\n",
       "        vertical-align: top;\n",
       "    }\n",
       "\n",
       "    .dataframe thead th {\n",
       "        text-align: right;\n",
       "    }\n",
       "</style>\n",
       "<table border=\"1\" class=\"dataframe\">\n",
       "  <thead>\n",
       "    <tr style=\"text-align: right;\">\n",
       "      <th></th>\n",
       "      <th>close</th>\n",
       "      <th>volume</th>\n",
       "      <th>open</th>\n",
       "      <th>high</th>\n",
       "      <th>low</th>\n",
       "    </tr>\n",
       "  </thead>\n",
       "  <tbody>\n",
       "    <tr>\n",
       "      <th>2019-05-08</th>\n",
       "      <td>287.53</td>\n",
       "      <td>91568290.0</td>\n",
       "      <td>287.53</td>\n",
       "      <td>289.43</td>\n",
       "      <td>286.87</td>\n",
       "    </tr>\n",
       "    <tr>\n",
       "      <th>2019-05-09</th>\n",
       "      <td>286.66</td>\n",
       "      <td>103471100.0</td>\n",
       "      <td>285.23</td>\n",
       "      <td>287.33</td>\n",
       "      <td>283.30</td>\n",
       "    </tr>\n",
       "    <tr>\n",
       "      <th>2019-05-10</th>\n",
       "      <td>288.10</td>\n",
       "      <td>112429300.0</td>\n",
       "      <td>285.62</td>\n",
       "      <td>288.94</td>\n",
       "      <td>282.30</td>\n",
       "    </tr>\n",
       "    <tr>\n",
       "      <th>2019-05-13</th>\n",
       "      <td>280.86</td>\n",
       "      <td>127290500.0</td>\n",
       "      <td>282.42</td>\n",
       "      <td>283.49</td>\n",
       "      <td>279.93</td>\n",
       "    </tr>\n",
       "    <tr>\n",
       "      <th>2019-05-14</th>\n",
       "      <td>283.40</td>\n",
       "      <td>77003230.0</td>\n",
       "      <td>281.99</td>\n",
       "      <td>285.10</td>\n",
       "      <td>281.85</td>\n",
       "    </tr>\n",
       "  </tbody>\n",
       "</table>\n",
       "</div>"
      ],
      "text/plain": [
       "             close       volume    open    high     low\n",
       "2019-05-08  287.53   91568290.0  287.53  289.43  286.87\n",
       "2019-05-09  286.66  103471100.0  285.23  287.33  283.30\n",
       "2019-05-10  288.10  112429300.0  285.62  288.94  282.30\n",
       "2019-05-13  280.86  127290500.0  282.42  283.49  279.93\n",
       "2019-05-14  283.40   77003230.0  281.99  285.10  281.85"
      ]
     },
     "execution_count": 147,
     "metadata": {},
     "output_type": "execute_result"
    }
   ],
   "source": [
    "# plotting the sliced dataframe\n",
    "dfj.head()\n"
   ]
  },
  {
   "cell_type": "code",
   "execution_count": 150,
   "metadata": {},
   "outputs": [
    {
     "name": "stderr",
     "output_type": "stream",
     "text": [
      "C:\\Users\\A.Kislaya\\AppData\\Local\\Continuum\\anaconda3\\lib\\site-packages\\ipykernel_launcher.py:1: DeprecationWarning: \n",
      ".ix is deprecated. Please use\n",
      ".loc for label based indexing or\n",
      ".iloc for positional indexing\n",
      "\n",
      "See the documentation here:\n",
      "http://pandas.pydata.org/pandas-docs/stable/indexing.html#ix-indexer-is-deprecated\n",
      "  \"\"\"Entry point for launching an IPython kernel.\n"
     ]
    },
    {
     "data": {
      "text/plain": [
       "2019-05-08     91568290.0\n",
       "2019-05-09    103471100.0\n",
       "2019-05-10    112429300.0\n",
       "2019-05-13    127290500.0\n",
       "2019-05-14     77003230.0\n",
       "Name: volume, dtype: float64"
      ]
     },
     "execution_count": 150,
     "metadata": {},
     "output_type": "execute_result"
    }
   ],
   "source": [
    "dfj.ix['2019-05-08':'2019-05-14','volume']"
   ]
  },
  {
   "cell_type": "code",
   "execution_count": 159,
   "metadata": {},
   "outputs": [
    {
     "data": {
      "text/html": [
       "<div>\n",
       "<style scoped>\n",
       "    .dataframe tbody tr th:only-of-type {\n",
       "        vertical-align: middle;\n",
       "    }\n",
       "\n",
       "    .dataframe tbody tr th {\n",
       "        vertical-align: top;\n",
       "    }\n",
       "\n",
       "    .dataframe thead th {\n",
       "        text-align: right;\n",
       "    }\n",
       "</style>\n",
       "<table border=\"1\" class=\"dataframe\">\n",
       "  <thead>\n",
       "    <tr style=\"text-align: right;\">\n",
       "      <th></th>\n",
       "      <th>close</th>\n",
       "      <th>volume</th>\n",
       "      <th>open</th>\n",
       "      <th>high</th>\n",
       "      <th>low</th>\n",
       "    </tr>\n",
       "  </thead>\n",
       "  <tbody>\n",
       "    <tr>\n",
       "      <th>2019-05-08</th>\n",
       "      <td>287.53</td>\n",
       "      <td>91568290.0</td>\n",
       "      <td>287.53</td>\n",
       "      <td>289.43</td>\n",
       "      <td>286.870</td>\n",
       "    </tr>\n",
       "    <tr>\n",
       "      <th>2019-05-09</th>\n",
       "      <td>286.66</td>\n",
       "      <td>103471100.0</td>\n",
       "      <td>285.23</td>\n",
       "      <td>287.33</td>\n",
       "      <td>283.300</td>\n",
       "    </tr>\n",
       "    <tr>\n",
       "      <th>2019-05-10</th>\n",
       "      <td>288.10</td>\n",
       "      <td>112429300.0</td>\n",
       "      <td>285.62</td>\n",
       "      <td>288.94</td>\n",
       "      <td>282.300</td>\n",
       "    </tr>\n",
       "    <tr>\n",
       "      <th>2019-05-13</th>\n",
       "      <td>280.86</td>\n",
       "      <td>127290500.0</td>\n",
       "      <td>282.42</td>\n",
       "      <td>283.49</td>\n",
       "      <td>279.930</td>\n",
       "    </tr>\n",
       "    <tr>\n",
       "      <th>2019-05-14</th>\n",
       "      <td>283.40</td>\n",
       "      <td>77003230.0</td>\n",
       "      <td>281.99</td>\n",
       "      <td>285.10</td>\n",
       "      <td>281.850</td>\n",
       "    </tr>\n",
       "    <tr>\n",
       "      <th>2019-05-15</th>\n",
       "      <td>285.06</td>\n",
       "      <td>73956410.0</td>\n",
       "      <td>281.59</td>\n",
       "      <td>285.77</td>\n",
       "      <td>281.360</td>\n",
       "    </tr>\n",
       "    <tr>\n",
       "      <th>2019-05-16</th>\n",
       "      <td>287.70</td>\n",
       "      <td>76749640.0</td>\n",
       "      <td>285.84</td>\n",
       "      <td>289.21</td>\n",
       "      <td>285.760</td>\n",
       "    </tr>\n",
       "    <tr>\n",
       "      <th>2019-05-17</th>\n",
       "      <td>285.84</td>\n",
       "      <td>100353000.0</td>\n",
       "      <td>285.14</td>\n",
       "      <td>288.60</td>\n",
       "      <td>285.121</td>\n",
       "    </tr>\n",
       "    <tr>\n",
       "      <th>2019-05-20</th>\n",
       "      <td>283.95</td>\n",
       "      <td>62877610.0</td>\n",
       "      <td>284.06</td>\n",
       "      <td>285.43</td>\n",
       "      <td>283.120</td>\n",
       "    </tr>\n",
       "    <tr>\n",
       "      <th>2019-05-21</th>\n",
       "      <td>286.51</td>\n",
       "      <td>46847090.0</td>\n",
       "      <td>285.83</td>\n",
       "      <td>286.93</td>\n",
       "      <td>285.550</td>\n",
       "    </tr>\n",
       "    <tr>\n",
       "      <th>2019-05-22</th>\n",
       "      <td>285.63</td>\n",
       "      <td>49482470.0</td>\n",
       "      <td>285.45</td>\n",
       "      <td>286.69</td>\n",
       "      <td>285.100</td>\n",
       "    </tr>\n",
       "    <tr>\n",
       "      <th>2019-05-23</th>\n",
       "      <td>282.14</td>\n",
       "      <td>98733850.0</td>\n",
       "      <td>283.16</td>\n",
       "      <td>283.21</td>\n",
       "      <td>280.570</td>\n",
       "    </tr>\n",
       "    <tr>\n",
       "      <th>2019-05-24</th>\n",
       "      <td>282.78</td>\n",
       "      <td>55268100.0</td>\n",
       "      <td>283.74</td>\n",
       "      <td>284.20</td>\n",
       "      <td>282.090</td>\n",
       "    </tr>\n",
       "    <tr>\n",
       "      <th>2019-05-28</th>\n",
       "      <td>280.15</td>\n",
       "      <td>70029360.0</td>\n",
       "      <td>283.09</td>\n",
       "      <td>284.15</td>\n",
       "      <td>280.130</td>\n",
       "    </tr>\n",
       "    <tr>\n",
       "      <th>2019-05-29</th>\n",
       "      <td>278.27</td>\n",
       "      <td>104972900.0</td>\n",
       "      <td>278.91</td>\n",
       "      <td>279.36</td>\n",
       "      <td>276.710</td>\n",
       "    </tr>\n",
       "  </tbody>\n",
       "</table>\n",
       "</div>"
      ],
      "text/plain": [
       "             close       volume    open    high      low\n",
       "2019-05-08  287.53   91568290.0  287.53  289.43  286.870\n",
       "2019-05-09  286.66  103471100.0  285.23  287.33  283.300\n",
       "2019-05-10  288.10  112429300.0  285.62  288.94  282.300\n",
       "2019-05-13  280.86  127290500.0  282.42  283.49  279.930\n",
       "2019-05-14  283.40   77003230.0  281.99  285.10  281.850\n",
       "2019-05-15  285.06   73956410.0  281.59  285.77  281.360\n",
       "2019-05-16  287.70   76749640.0  285.84  289.21  285.760\n",
       "2019-05-17  285.84  100353000.0  285.14  288.60  285.121\n",
       "2019-05-20  283.95   62877610.0  284.06  285.43  283.120\n",
       "2019-05-21  286.51   46847090.0  285.83  286.93  285.550\n",
       "2019-05-22  285.63   49482470.0  285.45  286.69  285.100\n",
       "2019-05-23  282.14   98733850.0  283.16  283.21  280.570\n",
       "2019-05-24  282.78   55268100.0  283.74  284.20  282.090\n",
       "2019-05-28  280.15   70029360.0  283.09  284.15  280.130\n",
       "2019-05-29  278.27  104972900.0  278.91  279.36  276.710"
      ]
     },
     "execution_count": 159,
     "metadata": {},
     "output_type": "execute_result"
    }
   ],
   "source": [
    "## convert in case of error of string not integer\n",
    "dfj=dfj.astype(float)\n",
    "dfj"
   ]
  },
  {
   "cell_type": "code",
   "execution_count": 161,
   "metadata": {},
   "outputs": [
    {
     "name": "stderr",
     "output_type": "stream",
     "text": [
      "C:\\Users\\A.Kislaya\\AppData\\Local\\Continuum\\anaconda3\\lib\\site-packages\\ipykernel_launcher.py:1: DeprecationWarning: \n",
      ".ix is deprecated. Please use\n",
      ".loc for label based indexing or\n",
      ".iloc for positional indexing\n",
      "\n",
      "See the documentation here:\n",
      "http://pandas.pydata.org/pandas-docs/stable/indexing.html#ix-indexer-is-deprecated\n",
      "  \"\"\"Entry point for launching an IPython kernel.\n"
     ]
    },
    {
     "data": {
      "text/plain": [
       "<matplotlib.axes._subplots.AxesSubplot at 0x277c5386630>"
      ]
     },
     "execution_count": 161,
     "metadata": {},
     "output_type": "execute_result"
    },
    {
     "data": {
      "image/png": "[encoded data removed]",
      "text/plain": [
       "<Figure size 432x288 with 1 Axes>"
      ]
     },
     "metadata": {
      "needs_background": "light"
     },
     "output_type": "display_data"
    }
   ],
   "source": [
    "## this is how you plot different selected columns \n",
    "## for above we have to pass columns in list\n",
    "\n",
    "dfj.ix['2019-05-09':'2019-05-24',['open','high','low']].plot()  "
   ]
  },
  {
   "cell_type": "code",
   "execution_count": null,
   "metadata": {},
   "outputs": [],
   "source": []
  },
  {
   "cell_type": "code",
   "execution_count": null,
   "metadata": {},
   "outputs": [],
   "source": []
  },
  {
   "cell_type": "code",
   "execution_count": null,
   "metadata": {},
   "outputs": [],
   "source": []
  },
  {
   "cell_type": "code",
   "execution_count": null,
   "metadata": {},
   "outputs": [],
   "source": []
  },
  {
   "cell_type": "code",
   "execution_count": null,
   "metadata": {},
   "outputs": [],
   "source": []
  },
  {
   "cell_type": "code",
   "execution_count": null,
   "metadata": {},
   "outputs": [],
   "source": []
  },
  {
   "cell_type": "code",
   "execution_count": null,
   "metadata": {},
   "outputs": [],
   "source": []
  },
  {
   "cell_type": "code",
   "execution_count": null,
   "metadata": {},
   "outputs": [],
   "source": []
  },
  {
   "cell_type": "code",
   "execution_count": null,
   "metadata": {},
   "outputs": [],
   "source": []
  },
  {
   "cell_type": "code",
   "execution_count": null,
   "metadata": {},
   "outputs": [],
   "source": []
  },
  {
   "cell_type": "code",
   "execution_count": null,
   "metadata": {},
   "outputs": [],
   "source": []
  },
  {
   "cell_type": "code",
   "execution_count": null,
   "metadata": {},
   "outputs": [],
   "source": []
  },
  {
   "cell_type": "code",
   "execution_count": null,
   "metadata": {},
   "outputs": [],
   "source": []
  },
  {
   "cell_type": "code",
   "execution_count": null,
   "metadata": {},
   "outputs": [],
   "source": []
  },
  {
   "cell_type": "code",
   "execution_count": null,
   "metadata": {},
   "outputs": [],
   "source": []
  },
  {
   "cell_type": "code",
   "execution_count": null,
   "metadata": {},
   "outputs": [],
   "source": []
  },
  {
   "cell_type": "code",
   "execution_count": null,
   "metadata": {},
   "outputs": [],
   "source": []
  },
  {
   "cell_type": "code",
   "execution_count": null,
   "metadata": {},
   "outputs": [],
   "source": []
  },
  {
   "cell_type": "code",
   "execution_count": null,
   "metadata": {},
   "outputs": [],
   "source": []
  },
  {
   "cell_type": "code",
   "execution_count": null,
   "metadata": {},
   "outputs": [],
   "source": []
  },
  {
   "cell_type": "code",
   "execution_count": null,
   "metadata": {},
   "outputs": [],
   "source": []
  },
  {
   "cell_type": "code",
   "execution_count": null,
   "metadata": {},
   "outputs": [],
   "source": []
  },
  {
   "cell_type": "code",
   "execution_count": null,
   "metadata": {},
   "outputs": [],
   "source": []
  },
  {
   "cell_type": "code",
   "execution_count": null,
   "metadata": {},
   "outputs": [],
   "source": []
  },
  {
   "cell_type": "code",
   "execution_count": null,
   "metadata": {},
   "outputs": [],
   "source": []
  },
  {
   "cell_type": "code",
   "execution_count": null,
   "metadata": {},
   "outputs": [],
   "source": []
  },
  {
   "cell_type": "code",
   "execution_count": null,
   "metadata": {},
   "outputs": [],
   "source": []
  },
  {
   "cell_type": "code",
   "execution_count": null,
   "metadata": {},
   "outputs": [],
   "source": []
  },
  {
   "cell_type": "code",
   "execution_count": null,
   "metadata": {},
   "outputs": [],
   "source": []
  },
  {
   "cell_type": "code",
   "execution_count": null,
   "metadata": {},
   "outputs": [],
   "source": []
  },
  {
   "cell_type": "code",
   "execution_count": null,
   "metadata": {},
   "outputs": [],
   "source": []
  },
  {
   "cell_type": "code",
   "execution_count": null,
   "metadata": {},
   "outputs": [],
   "source": []
  },
  {
   "cell_type": "code",
   "execution_count": null,
   "metadata": {},
   "outputs": [],
   "source": []
  },
  {
   "cell_type": "code",
   "execution_count": null,
   "metadata": {},
   "outputs": [],
   "source": []
  },
  {
   "cell_type": "code",
   "execution_count": null,
   "metadata": {},
   "outputs": [],
   "source": []
  },
  {
   "cell_type": "code",
   "execution_count": null,
   "metadata": {},
   "outputs": [],
   "source": []
  },
  {
   "cell_type": "code",
   "execution_count": null,
   "metadata": {},
   "outputs": [],
   "source": []
  },
  {
   "cell_type": "code",
   "execution_count": null,
   "metadata": {},
   "outputs": [],
   "source": []
  },
  {
   "cell_type": "code",
   "execution_count": null,
   "metadata": {},
   "outputs": [],
   "source": []
  },
  {
   "cell_type": "code",
   "execution_count": null,
   "metadata": {},
   "outputs": [],
   "source": []
  },
  {
   "cell_type": "code",
   "execution_count": null,
   "metadata": {},
   "outputs": [],
   "source": []
  },
  {
   "cell_type": "code",
   "execution_count": null,
   "metadata": {},
   "outputs": [],
   "source": []
  },
  {
   "cell_type": "code",
   "execution_count": null,
   "metadata": {},
   "outputs": [],
   "source": []
  },
  {
   "cell_type": "code",
   "execution_count": null,
   "metadata": {},
   "outputs": [],
   "source": []
  },
  {
   "cell_type": "code",
   "execution_count": null,
   "metadata": {},
   "outputs": [],
   "source": []
  },
  {
   "cell_type": "code",
   "execution_count": null,
   "metadata": {},
   "outputs": [],
   "source": []
  },
  {
   "cell_type": "code",
   "execution_count": null,
   "metadata": {},
   "outputs": [],
   "source": []
  },
  {
   "cell_type": "code",
   "execution_count": null,
   "metadata": {},
   "outputs": [],
   "source": []
  },
  {
   "cell_type": "code",
   "execution_count": null,
   "metadata": {},
   "outputs": [],
   "source": []
  },
  {
   "cell_type": "code",
   "execution_count": null,
   "metadata": {},
   "outputs": [],
   "source": []
  },
  {
   "cell_type": "code",
   "execution_count": null,
   "metadata": {},
   "outputs": [],
   "source": []
  },
  {
   "cell_type": "code",
   "execution_count": null,
   "metadata": {},
   "outputs": [],
   "source": []
  },
  {
   "cell_type": "code",
   "execution_count": null,
   "metadata": {},
   "outputs": [],
   "source": []
  },
  {
   "cell_type": "code",
   "execution_count": null,
   "metadata": {},
   "outputs": [],
   "source": []
  },
  {
   "cell_type": "code",
   "execution_count": null,
   "metadata": {},
   "outputs": [],
   "source": []
  }
 ],
 "metadata": {
  "kernelspec": {
   "display_name": "Python 3",
   "language": "python",
   "name": "python3"
  },
  "language_info": {
   "codemirror_mode": {
    "name": "ipython",
    "version": 3
   },
   "file_extension": ".py",
   "mimetype": "text/x-python",
   "name": "python",
   "nbconvert_exporter": "python",
   "pygments_lexer": "ipython3",
   "version": "3.7.4"
  }
 },
 "nbformat": 4,
 "nbformat_minor": 4
}
